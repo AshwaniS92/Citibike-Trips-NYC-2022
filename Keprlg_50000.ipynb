{
 "cells": [
  {
   "cell_type": "code",
   "execution_count": 25,
   "id": "361abee2-b5f7-4718-88d6-da64bfb2b96a",
   "metadata": {},
   "outputs": [],
   "source": [
    "import pandas as pd\n",
    "import os\n",
    "from keplergl import KeplerGl\n",
    "from pyproj import CRS \n",
    "import numpy as np\n",
    "from matplotlib import pyplot as plt"
   ]
  },
  {
   "cell_type": "code",
   "execution_count": 8,
   "id": "93aa62c2-4a6e-4146-b95d-30e30ba0a820",
   "metadata": {},
   "outputs": [],
   "source": [
    "# Path to the exported CSV file\n",
    "file_path = '/Users/ashwanisherawat/citibike_env/bin/station_data.pickle'"
   ]
  },
  {
   "cell_type": "code",
   "execution_count": 26,
   "id": "6b119c43-d97f-441a-aca9-1d80c01aeff1",
   "metadata": {},
   "outputs": [],
   "source": [
    "# Load the uploaded pickle file\n",
    "data = pd.read_pickle(file_path)"
   ]
  },
  {
   "cell_type": "code",
   "execution_count": 27,
   "id": "65dd2a11-691b-4a7b-9452-092dfc4807b6",
   "metadata": {},
   "outputs": [
    {
     "data": {
      "text/html": [
       "<div>\n",
       "<style scoped>\n",
       "    .dataframe tbody tr th:only-of-type {\n",
       "        vertical-align: middle;\n",
       "    }\n",
       "\n",
       "    .dataframe tbody tr th {\n",
       "        vertical-align: top;\n",
       "    }\n",
       "\n",
       "    .dataframe thead th {\n",
       "        text-align: right;\n",
       "    }\n",
       "</style>\n",
       "<table border=\"1\" class=\"dataframe\">\n",
       "  <thead>\n",
       "    <tr style=\"text-align: right;\">\n",
       "      <th></th>\n",
       "      <th>start_station_name</th>\n",
       "      <th>end_station_name</th>\n",
       "      <th>trips</th>\n",
       "      <th>start_lat</th>\n",
       "      <th>start_lng</th>\n",
       "      <th>end_lat</th>\n",
       "      <th>end_lng</th>\n",
       "    </tr>\n",
       "  </thead>\n",
       "  <tbody>\n",
       "    <tr>\n",
       "      <th>0</th>\n",
       "      <td>1 Ave &amp; E 110 St</td>\n",
       "      <td>1 Ave &amp; E 110 St</td>\n",
       "      <td>791</td>\n",
       "      <td>40.792337</td>\n",
       "      <td>-73.93824</td>\n",
       "      <td>40.792327</td>\n",
       "      <td>-73.938300</td>\n",
       "    </tr>\n",
       "    <tr>\n",
       "      <th>1</th>\n",
       "      <td>1 Ave &amp; E 110 St</td>\n",
       "      <td>1 Ave &amp; E 18 St</td>\n",
       "      <td>2</td>\n",
       "      <td>40.792337</td>\n",
       "      <td>-73.93824</td>\n",
       "      <td>40.733812</td>\n",
       "      <td>-73.980544</td>\n",
       "    </tr>\n",
       "    <tr>\n",
       "      <th>2</th>\n",
       "      <td>1 Ave &amp; E 110 St</td>\n",
       "      <td>1 Ave &amp; E 30 St</td>\n",
       "      <td>4</td>\n",
       "      <td>40.792337</td>\n",
       "      <td>-73.93824</td>\n",
       "      <td>40.741444</td>\n",
       "      <td>-73.975361</td>\n",
       "    </tr>\n",
       "    <tr>\n",
       "      <th>3</th>\n",
       "      <td>1 Ave &amp; E 110 St</td>\n",
       "      <td>1 Ave &amp; E 39 St</td>\n",
       "      <td>1</td>\n",
       "      <td>40.792337</td>\n",
       "      <td>-73.93824</td>\n",
       "      <td>40.747140</td>\n",
       "      <td>-73.971130</td>\n",
       "    </tr>\n",
       "    <tr>\n",
       "      <th>4</th>\n",
       "      <td>1 Ave &amp; E 110 St</td>\n",
       "      <td>1 Ave &amp; E 44 St</td>\n",
       "      <td>12</td>\n",
       "      <td>40.792337</td>\n",
       "      <td>-73.93824</td>\n",
       "      <td>40.750020</td>\n",
       "      <td>-73.969053</td>\n",
       "    </tr>\n",
       "  </tbody>\n",
       "</table>\n",
       "</div>"
      ],
      "text/plain": [
       "  start_station_name  end_station_name  trips  start_lat  start_lng  \\\n",
       "0   1 Ave & E 110 St  1 Ave & E 110 St    791  40.792337  -73.93824   \n",
       "1   1 Ave & E 110 St   1 Ave & E 18 St      2  40.792337  -73.93824   \n",
       "2   1 Ave & E 110 St   1 Ave & E 30 St      4  40.792337  -73.93824   \n",
       "3   1 Ave & E 110 St   1 Ave & E 39 St      1  40.792337  -73.93824   \n",
       "4   1 Ave & E 110 St   1 Ave & E 44 St     12  40.792337  -73.93824   \n",
       "\n",
       "     end_lat    end_lng  \n",
       "0  40.792327 -73.938300  \n",
       "1  40.733812 -73.980544  \n",
       "2  40.741444 -73.975361  \n",
       "3  40.747140 -73.971130  \n",
       "4  40.750020 -73.969053  "
      ]
     },
     "execution_count": 27,
     "metadata": {},
     "output_type": "execute_result"
    }
   ],
   "source": [
    "# Display the first few rows of the dataset to understand its structure\n",
    "data.head()"
   ]
  },
  {
   "cell_type": "code",
   "execution_count": 28,
   "id": "6ee70c8e-50e8-4f45-9589-3a839670741f",
   "metadata": {},
   "outputs": [
    {
     "data": {
      "text/plain": [
       "(1013422, 7)"
      ]
     },
     "execution_count": 28,
     "metadata": {},
     "output_type": "execute_result"
    }
   ],
   "source": [
    "data.shape"
   ]
  },
  {
   "cell_type": "code",
   "execution_count": 50,
   "id": "cd25e76f-fd5d-458e-bde1-d8eb98b2fc8d",
   "metadata": {},
   "outputs": [],
   "source": [
    "# Filter dataset to include rows where trips > 40\n",
    "filtered_data = data[data['trips'] > 40]\n",
    "\n",
    "# Select a random sample of up to 500 rows\n",
    "sample_size = min(50000, filtered_data.shape[0])  # Ensure we don't sample more rows than available\n",
    "random_sample = filtered_data.sample(n=sample_size, random_state=42)\n",
    "\n"
   ]
  },
  {
   "cell_type": "code",
   "execution_count": 51,
   "id": "805b0ce0-731c-4c2e-a1ed-f7c77aae8014",
   "metadata": {},
   "outputs": [
    {
     "data": {
      "text/plain": [
       "(50000, 7)"
      ]
     },
     "execution_count": 51,
     "metadata": {},
     "output_type": "execute_result"
    }
   ],
   "source": [
    "random_sample.shape"
   ]
  },
  {
   "cell_type": "code",
   "execution_count": 52,
   "id": "a8a690a2-7f64-4e36-9e84-15c6d6baf8fc",
   "metadata": {},
   "outputs": [
    {
     "data": {
      "text/html": [
       "<div>\n",
       "<style scoped>\n",
       "    .dataframe tbody tr th:only-of-type {\n",
       "        vertical-align: middle;\n",
       "    }\n",
       "\n",
       "    .dataframe tbody tr th {\n",
       "        vertical-align: top;\n",
       "    }\n",
       "\n",
       "    .dataframe thead th {\n",
       "        text-align: right;\n",
       "    }\n",
       "</style>\n",
       "<table border=\"1\" class=\"dataframe\">\n",
       "  <thead>\n",
       "    <tr style=\"text-align: right;\">\n",
       "      <th></th>\n",
       "      <th>start_station_name</th>\n",
       "      <th>end_station_name</th>\n",
       "      <th>trips</th>\n",
       "      <th>start_lat</th>\n",
       "      <th>start_lng</th>\n",
       "      <th>end_lat</th>\n",
       "      <th>end_lng</th>\n",
       "    </tr>\n",
       "  </thead>\n",
       "  <tbody>\n",
       "    <tr>\n",
       "      <th>471367</th>\n",
       "      <td>E 7 St &amp; Ave C</td>\n",
       "      <td>E 4 St &amp; 2 Ave</td>\n",
       "      <td>304</td>\n",
       "      <td>40.724129</td>\n",
       "      <td>-73.979013</td>\n",
       "      <td>40.726281</td>\n",
       "      <td>-73.989780</td>\n",
       "    </tr>\n",
       "    <tr>\n",
       "      <th>388947</th>\n",
       "      <td>E 14 St &amp; 1 Ave</td>\n",
       "      <td>8 Ave &amp; W 38 St</td>\n",
       "      <td>77</td>\n",
       "      <td>40.731393</td>\n",
       "      <td>-73.982867</td>\n",
       "      <td>40.754610</td>\n",
       "      <td>-73.991770</td>\n",
       "    </tr>\n",
       "    <tr>\n",
       "      <th>173566</th>\n",
       "      <td>Albany St &amp; Greenwich St</td>\n",
       "      <td>W 53 St &amp; 10 Ave</td>\n",
       "      <td>43</td>\n",
       "      <td>40.708821</td>\n",
       "      <td>-74.013834</td>\n",
       "      <td>40.766697</td>\n",
       "      <td>-73.990617</td>\n",
       "    </tr>\n",
       "    <tr>\n",
       "      <th>771722</th>\n",
       "      <td>Riverside Dr &amp; W 104 St</td>\n",
       "      <td>E 97 St &amp; Madison Ave</td>\n",
       "      <td>71</td>\n",
       "      <td>40.801343</td>\n",
       "      <td>-73.971146</td>\n",
       "      <td>40.787801</td>\n",
       "      <td>-73.953559</td>\n",
       "    </tr>\n",
       "    <tr>\n",
       "      <th>929531</th>\n",
       "      <td>W 45 St &amp; 8 Ave</td>\n",
       "      <td>8 Ave &amp; W 24 St</td>\n",
       "      <td>63</td>\n",
       "      <td>40.759291</td>\n",
       "      <td>-73.988597</td>\n",
       "      <td>40.745911</td>\n",
       "      <td>-73.998071</td>\n",
       "    </tr>\n",
       "  </tbody>\n",
       "</table>\n",
       "</div>"
      ],
      "text/plain": [
       "              start_station_name       end_station_name  trips  start_lat  \\\n",
       "471367            E 7 St & Ave C         E 4 St & 2 Ave    304  40.724129   \n",
       "388947           E 14 St & 1 Ave        8 Ave & W 38 St     77  40.731393   \n",
       "173566  Albany St & Greenwich St       W 53 St & 10 Ave     43  40.708821   \n",
       "771722   Riverside Dr & W 104 St  E 97 St & Madison Ave     71  40.801343   \n",
       "929531           W 45 St & 8 Ave        8 Ave & W 24 St     63  40.759291   \n",
       "\n",
       "        start_lng    end_lat    end_lng  \n",
       "471367 -73.979013  40.726281 -73.989780  \n",
       "388947 -73.982867  40.754610 -73.991770  \n",
       "173566 -74.013834  40.766697 -73.990617  \n",
       "771722 -73.971146  40.787801 -73.953559  \n",
       "929531 -73.988597  40.745911 -73.998071  "
      ]
     },
     "execution_count": 52,
     "metadata": {},
     "output_type": "execute_result"
    }
   ],
   "source": [
    "random_sample.head()"
   ]
  },
  {
   "cell_type": "code",
   "execution_count": 53,
   "id": "b6cfd84d-47e4-41ab-a220-8212ceb5cbc3",
   "metadata": {
    "scrolled": true
   },
   "outputs": [
    {
     "name": "stdout",
     "output_type": "stream",
     "text": [
      "User Guide: https://docs.kepler.gl/docs/keplergl-jupyter\n"
     ]
    },
    {
     "data": {
      "application/vnd.jupyter.widget-view+json": {
       "model_id": "a48b13f0c9384abdab6a8f9a584e5a9a",
       "version_major": 2,
       "version_minor": 0
      },
      "text/plain": [
       "KeplerGl(data={'data_1':               start_station_name       end_station_name  trips  start_lat  \\\n",
       "471367  …"
      ]
     },
     "execution_count": 53,
     "metadata": {},
     "output_type": "execute_result"
    }
   ],
   "source": [
    " m = KeplerGl(height=700, data={'data_1': random_sample})\n",
    " m"
   ]
  },
  {
   "cell_type": "code",
   "execution_count": 48,
   "id": "6c6dc936-2b52-4592-b6e8-8017904d0875",
   "metadata": {},
   "outputs": [],
   "source": [
    " config = m.config"
   ]
  },
  {
   "cell_type": "code",
   "execution_count": 54,
   "id": "cf5a277e-e92e-425e-bc15-a2a09090edf9",
   "metadata": {},
   "outputs": [
    {
     "name": "stdout",
     "output_type": "stream",
     "text": [
      "Map saved to Citi Bike Trips Aggregated_50000.html!\n"
     ]
    }
   ],
   "source": [
    "m.save_to_html(file_name='Citi Bike Trips Aggregated_50000.html', read_only = False, config = config)"
   ]
  },
  {
   "cell_type": "code",
   "execution_count": null,
   "id": "a42945fe-bee7-4980-9739-1a7990f28dde",
   "metadata": {},
   "outputs": [],
   "source": []
  }
 ],
 "metadata": {
  "kernelspec": {
   "display_name": "Python 3 (ipykernel)",
   "language": "python",
   "name": "python3"
  },
  "language_info": {
   "codemirror_mode": {
    "name": "ipython",
    "version": 3
   },
   "file_extension": ".py",
   "mimetype": "text/x-python",
   "name": "python",
   "nbconvert_exporter": "python",
   "pygments_lexer": "ipython3",
   "version": "3.9.6"
  }
 },
 "nbformat": 4,
 "nbformat_minor": 5
}
